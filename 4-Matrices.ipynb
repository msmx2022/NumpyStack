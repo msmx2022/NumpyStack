{
 "cells": [
  {
   "cell_type": "markdown",
   "metadata": {},
   "source": [
    "# Summary\n",
    "\n",
    "1.Numpy is easier to access element than List (Array[row,column] or Array[row][column])\n",
    "\n",
    "2.in Numpy, a function is applied element-wisely\n",
    "\n",
    "3.inverting a matrix is an inaccurate operation in PC, be careful!\n",
    "\n",
    "4.if you input a matrix to np.diag, you will get a vector;\n",
    "if you input a vector to np.diag, you will get a matrix\n",
    "\n",
    "5.np.allclose function can tell whether two arrays are equal"
   ]
  },
  {
   "cell_type": "code",
   "execution_count": 1,
   "metadata": {},
   "outputs": [],
   "source": [
    "import numpy as np"
   ]
  },
  {
   "cell_type": "code",
   "execution_count": 96,
   "metadata": {},
   "outputs": [
    {
     "name": "stdout",
     "output_type": "stream",
     "text": [
      "List will not format output: \n",
      "[[1, 2], [3, 4]]\n",
      "################################################\n",
      "Numpy will format output: \n",
      "[[1 2]\n",
      " [3 4]]\n",
      "################################################\n",
      "in List, element needs to accessed by List[row][column]:\n",
      "L[0][1] =  2\n",
      "L[0,1] will output error \n",
      "L[:,1] will output error \n",
      "################################################\n",
      "in Numpy, element can be accessed by Array[row,column] or Array[row][column]:\n",
      "in Numpy, we can select the whole column by colon notation\n",
      "A[0,1] =  2\n",
      "A[0][1] =  2\n",
      "A[:,1] =  [2 4] #colon notation\n",
      "################################################\n",
      "in Numpy, we can transpose a matrix by A.T\n",
      "[[1 3]\n",
      " [2 4]]\n",
      "################################################\n"
     ]
    }
   ],
   "source": [
    "# Numpy is easier to access element than List\n",
    "\n",
    "\n",
    "L = [[1,2],[3,4]]\n",
    "print(\"List will not format output: \")\n",
    "print(L)\n",
    "print(\"#\"*48)\n",
    "\n",
    "A = np.array([[1,2],[3,4]])\n",
    "print(\"Numpy will format output: \")\n",
    "print(A)\n",
    "print(\"#\"*48)\n",
    "\n",
    "print(\"in List, element needs to accessed by List[row][column]:\")\n",
    "print(\"L[0][1] = \",L[0][1])\n",
    "print(\"L[0,1] will output error \")\n",
    "print(\"L[:,1] will output error \")\n",
    "print(\"#\"*48)\n",
    "\n",
    "print(\"in Numpy, element can be accessed by Array[row,column] or Array[row][column]:\")\n",
    "print(\"in Numpy, we can select the whole column by colon notation\")\n",
    "print(\"A[0,1] = \",A[0,1])\n",
    "print(\"A[0][1] = \",A[0][1])\n",
    "print(\"A[:,1] = \",A[:,1],\"#colon notation\")\n",
    "print(\"#\"*48)\n",
    "\n",
    "print(\"in Numpy, we can transpose a matrix by A.T\")\n",
    "print(A.T)\n",
    "print(\"#\"*48)\n"
   ]
  },
  {
   "cell_type": "code",
   "execution_count": 44,
   "metadata": {},
   "outputs": [
    {
     "name": "stdout",
     "output_type": "stream",
     "text": [
      "in Numpy, a function is applied element-wisely, np.exp(A) output\n",
      "[[ 2.71828183  7.3890561 ]\n",
      " [20.08553692 54.59815003]]\n",
      "################################################\n",
      "in List, numpy function treats it as if it were numpy array and output Array, np.exp(L) output\n",
      "[[ 2.71828183  7.3890561 ]\n",
      " [20.08553692 54.59815003]]\n",
      "################################################\n",
      "if i want to pass some data into scikit-learn or matplotlib, there is no need to convert List into Array\n"
     ]
    }
   ],
   "source": [
    "print(\"in Numpy, a function is applied element-wisely, np.exp(A) output\")\n",
    "print(np.exp(A))\n",
    "print(\"#\"*48)\n",
    "\n",
    "print(\"in List, numpy function treats it as if it were numpy array and output Array, np.exp(L) output\")\n",
    "print(np.exp(L))\n",
    "print(\"#\"*48)\n",
    "print(\"if i want to pass some data into scikit-learn or matplotlib, there is no need to convert List into Array\")"
   ]
  },
  {
   "cell_type": "code",
   "execution_count": 63,
   "metadata": {},
   "outputs": [
    {
     "name": "stdout",
     "output_type": "stream",
     "text": [
      "A.dot(B) =\n",
      "[[ 9 12 15]\n",
      " [19 26 33]]\n",
      "################################################\n",
      "np.linalg.det(A) =\n",
      "-2.0000000000000004\n",
      "################################################\n",
      "np.linalg.inv(A) =\n",
      "[[-2.   1. ]\n",
      " [ 1.5 -0.5]]\n",
      "################################################\n",
      "np.linalg.inv(A).dot(A) =\n",
      "[[1.0000000e+00 4.4408921e-16]\n",
      " [0.0000000e+00 1.0000000e+00]]\n",
      "inverting a matrix is an inaccurate operation in PC, be careful!\n",
      "################################################\n",
      "np.trace(A) =\n",
      "5\n",
      "################################################\n"
     ]
    }
   ],
   "source": [
    "#matrix multiplication\n",
    "B = np.array([[1,2,3],[4,5,6]])\n",
    "\n",
    "print(\"A.dot(B) =\")\n",
    "print(A.dot(B))\n",
    "print(\"#\"*48)\n",
    "\n",
    "print(\"np.linalg.det(A) =\")\n",
    "print(np.linalg.det(A))\n",
    "print(\"#\"*48)\n",
    "\n",
    "print(\"np.linalg.inv(A) =\")\n",
    "print(np.linalg.inv(A))\n",
    "print(\"#\"*48)\n",
    "\n",
    "print(\"np.linalg.inv(A).dot(A) =\")\n",
    "print(np.linalg.inv(A).dot(A))\n",
    "print(\"inverting a matrix is an inaccurate operation in PC, be careful!\")\n",
    "print(\"#\"*48)\n",
    "\n",
    "print(\"np.trace(A) =\")\n",
    "print(np.trace(A))\n",
    "print(\"#\"*48)"
   ]
  },
  {
   "cell_type": "code",
   "execution_count": 68,
   "metadata": {},
   "outputs": [
    {
     "name": "stdout",
     "output_type": "stream",
     "text": [
      "A = \n",
      "[[1 2]\n",
      " [3 4]]\n",
      "################################################\n",
      "np.diag(A) = \n",
      "[1 4]\n",
      "################################################\n",
      "np.diag([1,4]) = \n",
      "[[1 0]\n",
      " [0 4]]\n",
      "################################################\n",
      "if you input a matrix to np.diag, you will get a vector\n",
      "if you input a vector to np.diag, you will get a matrix\n"
     ]
    }
   ],
   "source": [
    "print(\"A = \")\n",
    "print(A)\n",
    "print(\"#\"*48)\n",
    "\n",
    "print(\"np.diag(A) = \")\n",
    "print(np.diag(A))\n",
    "print(\"#\"*48)\n",
    "\n",
    "print(\"np.diag([1,4]) = \")\n",
    "print(np.diag([1,4]))\n",
    "print(\"#\"*48)\n",
    "\n",
    "print(\"if you input a matrix to np.diag, you will get a vector\")\n",
    "print(\"if you input a vector to np.diag, you will get a matrix\")\n"
   ]
  },
  {
   "cell_type": "code",
   "execution_count": 95,
   "metadata": {},
   "outputs": [
    {
     "name": "stdout",
     "output_type": "stream",
     "text": [
      "np.linalg.eig(A) =\n",
      "\n",
      "(array([-0.37228132,  5.37228132]), array([[-0.82456484, -0.41597356],\n",
      "       [ 0.56576746, -0.90937671]]))\n",
      "\n",
      "np.linalg.eig(A) returns  [eigen value array] and  [matrix organized by eigenvectors]\n",
      "################################################\n",
      "\n",
      "V[:,0]*Lam[0],  A.dot(V[:,0]) = \n",
      "[ 0.30697009 -0.21062466] [ 0.30697009 -0.21062466]\n",
      "\n",
      "though they look the same, but they are not equal\n",
      "\n",
      "V[:,0]*Lam[0] == A.dot(V[:,0]) returns\n",
      "[ True False]\n",
      "\n",
      "Since PC don't have infinite memory, they can't have an infinite amount of precision\n",
      "number has been rounded off at some point\n",
      "\n",
      "np.allclose function can tell whether two arrays are equal\n",
      "np.allclose(V[:,0]*Lam[0], A.dot(V[:,0])) = \n",
      "True\n"
     ]
    }
   ],
   "source": [
    "# eigenvalue\n",
    "\n",
    "print(\"np.linalg.eig(A) =\")\n",
    "print(\"\")\n",
    "print(np.linalg.eig(A))\n",
    "print(\"\")\n",
    "print(\"np.linalg.eig(A) returns  [eigen value array] and  [matrix organized by eigenvectors]\")\n",
    "print(\"#\"*48)\n",
    "print(\"\")\n",
    "\n",
    "\n",
    "Lam, V = np.linalg.eig(A)\n",
    "print(\"V[:,0]*Lam[0],  A.dot(V[:,0]) = \")\n",
    "print(V[:,0]*Lam[0], A.dot(V[:,0]))\n",
    "print(\"\")\n",
    "print(\"though they look the same, but they are not equal\")\n",
    "print(\"\")\n",
    "print(\"V[:,0]*Lam[0] == A.dot(V[:,0]) returns\")\n",
    "print(V[:,0]*Lam[0] == A.dot(V[:,0]))\n",
    "print(\"\")\n",
    "print(\"Since PC don't have infinite memory, they can't have an infinite amount of precision\")\n",
    "print(\"number has been rounded off at some point\")\n",
    "print(\"\")\n",
    "print(\"np.allclose function can tell whether two arrays are equal\")\n",
    "print(\"np.allclose(V[:,0]*Lam[0], A.dot(V[:,0])) = \")\n",
    "print(np.allclose(V[:,0]*Lam[0], A.dot(V[:,0])))\n",
    "\n",
    "\n"
   ]
  },
  {
   "cell_type": "code",
   "execution_count": null,
   "metadata": {},
   "outputs": [],
   "source": []
  }
 ],
 "metadata": {
  "kernelspec": {
   "display_name": "base",
   "language": "python",
   "name": "python3"
  },
  "language_info": {
   "codemirror_mode": {
    "name": "ipython",
    "version": 3
   },
   "file_extension": ".py",
   "mimetype": "text/x-python",
   "name": "python",
   "nbconvert_exporter": "python",
   "pygments_lexer": "ipython3",
   "version": "3.7.7"
  }
 },
 "nbformat": 4,
 "nbformat_minor": 2
}
