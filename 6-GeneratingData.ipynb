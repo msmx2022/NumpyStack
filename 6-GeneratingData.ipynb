{
 "cells": [
  {
   "cell_type": "code",
   "execution_count": null,
   "metadata": {},
   "outputs": [],
   "source": []
  },
  {
   "cell_type": "markdown",
   "metadata": {},
   "source": [
    "# Summary\n",
    "\n",
    "1.[np.random.randn] can generate a matrix whose element come from normal distribution\n",
    "\n",
    "2.[Matrix.mean(axis=0)] return columns' mean\n",
    "\n",
    "3.[np.cov] by default treats each column as a vector observation, and we can solve this problem by transpose or rowvar\n",
    "\n",
    "4.[np.random.choice] randomly selects items from a one dimensional input array"
   ]
  },
  {
   "cell_type": "code",
   "execution_count": 1,
   "metadata": {},
   "outputs": [],
   "source": [
    "import numpy as np"
   ]
  },
  {
   "cell_type": "code",
   "execution_count": 2,
   "metadata": {},
   "outputs": [
    {
     "data": {
      "text/plain": [
       "array([[0., 0., 0.],\n",
       "       [0., 0., 0.]])"
      ]
     },
     "execution_count": 2,
     "metadata": {},
     "output_type": "execute_result"
    }
   ],
   "source": [
    "np.zeros((2,3))"
   ]
  },
  {
   "cell_type": "code",
   "execution_count": 3,
   "metadata": {},
   "outputs": [
    {
     "data": {
      "text/plain": [
       "array([[1., 1., 1.],\n",
       "       [1., 1., 1.]])"
      ]
     },
     "execution_count": 3,
     "metadata": {},
     "output_type": "execute_result"
    }
   ],
   "source": [
    "np.ones((2,3))"
   ]
  },
  {
   "cell_type": "code",
   "execution_count": 8,
   "metadata": {},
   "outputs": [
    {
     "data": {
      "text/plain": [
       "array([[1., 0., 0.],\n",
       "       [0., 1., 0.],\n",
       "       [0., 0., 1.]])"
      ]
     },
     "execution_count": 8,
     "metadata": {},
     "output_type": "execute_result"
    }
   ],
   "source": [
    "np.eye(3)"
   ]
  },
  {
   "cell_type": "code",
   "execution_count": 9,
   "metadata": {},
   "outputs": [
    {
     "data": {
      "text/plain": [
       "array([[0.90756673, 0.5413645 , 0.39381664],\n",
       "       [0.82091068, 0.51500448, 0.51284466]])"
      ]
     },
     "execution_count": 9,
     "metadata": {},
     "output_type": "execute_result"
    }
   ],
   "source": [
    "np.random.random((2,3))"
   ]
  },
  {
   "cell_type": "code",
   "execution_count": 10,
   "metadata": {},
   "outputs": [
    {
     "data": {
      "text/plain": [
       "array([[-0.08952808, -0.57163828,  0.55774041],\n",
       "       [-1.22091677,  1.96754009, -0.54836866]])"
      ]
     },
     "execution_count": 10,
     "metadata": {},
     "output_type": "execute_result"
    }
   ],
   "source": [
    "# what distribution do these random numbers come from\n",
    "\n",
    "np.random.randn(2,3)\n",
    "# randn does not accept a tuple as input for shape\n",
    "# each dimension is passed in as a separate argument"
   ]
  },
  {
   "cell_type": "code",
   "execution_count": 20,
   "metadata": {},
   "outputs": [
    {
     "name": "stdout",
     "output_type": "stream",
     "text": [
      "R.shape:  (1000,)\n",
      "R.mean():  0.037229429927148276\n",
      "R.var():  0.9379755604050409\n",
      "R.std():  0.9684913837536403\n"
     ]
    }
   ],
   "source": [
    "R = np.random.randn(1000)\n",
    "print(\"R.shape: \",R.shape)\n",
    "print(\"R.mean(): \",R.mean())\n",
    "print(\"R.var(): \",R.var())\n",
    "print(\"R.std(): \",R.std())"
   ]
  },
  {
   "cell_type": "code",
   "execution_count": 29,
   "metadata": {},
   "outputs": [
    {
     "name": "stdout",
     "output_type": "stream",
     "text": [
      "R.shape:  (1000, 3)\n",
      "R.mean(axis=0):  [-0.00936902 -0.02918972  0.01960478]\n",
      "R.mean(axis=0).shape:  (3,)  , columns' mean\n",
      "R.mean(axis=1).shape:  (1000,)  , rows' mean\n"
     ]
    }
   ],
   "source": [
    "R = np.random.randn(1000,3)\n",
    "print(\"R.shape: \",R.shape)\n",
    "print(\"R.mean(axis=0): \",R.mean(axis=0))\n",
    "print(\"R.mean(axis=0).shape: \",R.mean(axis=0).shape,\" , columns' mean\")\n",
    "print(\"R.mean(axis=1).shape: \",R.mean(axis=1).shape,\" , rows' mean\")"
   ]
  },
  {
   "cell_type": "code",
   "execution_count": 37,
   "metadata": {},
   "outputs": [
    {
     "name": "stdout",
     "output_type": "stream",
     "text": [
      "np.cov(R).shape:  (1000, 1000)\n",
      "cov by default treats each column as a vector observation\n",
      "the convention in ML needs to take each row as a vector observation\n",
      "\n",
      "solve this problem by transpose or rowvar\n",
      "np.cov(R.T)\n",
      "[[ 0.94689814 -0.02286447  0.03554041]\n",
      " [-0.02286447  0.90737464  0.00712447]\n",
      " [ 0.03554041  0.00712447  1.02531808]]\n",
      "np.cov(R, rowvar=False)\n",
      "[[ 0.94689814 -0.02286447  0.03554041]\n",
      " [-0.02286447  0.90737464  0.00712447]\n",
      " [ 0.03554041  0.00712447  1.02531808]]\n",
      "\n"
     ]
    }
   ],
   "source": [
    "# each row of matrix is a vector observation\n",
    "# when you have vectors, the analog of variance is covariance\n",
    "\n",
    "print(\"np.cov(R).shape: \",np.cov(R).shape)\n",
    "print(\"cov by default treats each column as a vector observation\")\n",
    "print(\"the convention in ML needs to take each row as a vector observation\")\n",
    "print(\"\")\n",
    "\n",
    "print(\"solve this problem by transpose or rowvar\")\n",
    "print(\"np.cov(R.T)\")\n",
    "print(np.cov(R.T))\n",
    "print(\"np.cov(R, rowvar=False)\")\n",
    "print(np.cov(R, rowvar=False))\n",
    "print(\"\")\n"
   ]
  },
  {
   "cell_type": "code",
   "execution_count": 40,
   "metadata": {},
   "outputs": [
    {
     "name": "stdout",
     "output_type": "stream",
     "text": [
      "np.random.randint(0,10,size=(3,3))\n",
      "[[0 4 8]\n",
      " [4 1 0]\n",
      " [1 7 8]]\n"
     ]
    }
   ],
   "source": [
    "# randomly generate integers\n",
    "\n",
    "print(\"np.random.randint(0,10,size=(3,3))\")\n",
    "print(np.random.randint(0,10,size=(3,3)))"
   ]
  },
  {
   "cell_type": "code",
   "execution_count": 41,
   "metadata": {},
   "outputs": [
    {
     "data": {
      "text/plain": [
       "array([[5, 6, 5],\n",
       "       [7, 5, 8]])"
      ]
     },
     "execution_count": 41,
     "metadata": {},
     "output_type": "execute_result"
    }
   ],
   "source": [
    "# np.random.choice randomly selects items from a one dimensional input array\n",
    "\n",
    "np.random.choice(10,size=(2,3))"
   ]
  },
  {
   "cell_type": "code",
   "execution_count": null,
   "metadata": {},
   "outputs": [],
   "source": []
  },
  {
   "cell_type": "code",
   "execution_count": null,
   "metadata": {},
   "outputs": [],
   "source": []
  }
 ],
 "metadata": {
  "kernelspec": {
   "display_name": "base",
   "language": "python",
   "name": "python3"
  },
  "language_info": {
   "codemirror_mode": {
    "name": "ipython",
    "version": 3
   },
   "file_extension": ".py",
   "mimetype": "text/x-python",
   "name": "python",
   "nbconvert_exporter": "python",
   "pygments_lexer": "ipython3",
   "version": "3.7.7"
  }
 },
 "nbformat": 4,
 "nbformat_minor": 2
}
